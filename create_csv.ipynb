{
 "cells": [
  {
   "cell_type": "code",
   "execution_count": 1,
   "metadata": {},
   "outputs": [],
   "source": [
    "import pandas as pd\n",
    "import numpy as np"
   ]
  },
  {
   "cell_type": "code",
   "execution_count": null,
   "metadata": {},
   "outputs": [],
   "source": [
    "import random\n",
    "random.seed(9)\n",
    "idxs = random.sample(list(np.arange(300)), 20)"
   ]
  },
  {
   "cell_type": "code",
   "execution_count": 12,
   "metadata": {},
   "outputs": [
    {
     "data": {
      "text/plain": [
       "(20, 4)"
      ]
     },
     "execution_count": 12,
     "metadata": {},
     "output_type": "execute_result"
    }
   ],
   "source": [
    "df = pd.read_csv('/Users/anna/Documents/Code/Ads/experiments/new_distractors/aggregated_annotations.csv').loc[idxs,['image_path', 'ar', 'distractor_1', 'distractor_2']]\n",
    "df.shape"
   ]
  },
  {
   "cell_type": "code",
   "execution_count": 14,
   "metadata": {},
   "outputs": [
    {
     "data": {
      "text/html": [
       "<div>\n",
       "<style scoped>\n",
       "    .dataframe tbody tr th:only-of-type {\n",
       "        vertical-align: middle;\n",
       "    }\n",
       "\n",
       "    .dataframe tbody tr th {\n",
       "        vertical-align: top;\n",
       "    }\n",
       "\n",
       "    .dataframe thead th {\n",
       "        text-align: right;\n",
       "    }\n",
       "</style>\n",
       "<table border=\"1\" class=\"dataframe\">\n",
       "  <thead>\n",
       "    <tr style=\"text-align: right;\">\n",
       "      <th></th>\n",
       "      <th>image_path</th>\n",
       "      <th>ar</th>\n",
       "      <th>distractor_1</th>\n",
       "      <th>distractor_2</th>\n",
       "    </tr>\n",
       "  </thead>\n",
       "  <tbody>\n",
       "    <tr>\n",
       "      <th>237</th>\n",
       "      <td>62126.jpg</td>\n",
       "      <td>I should buy these clothes because i will look...</td>\n",
       "      <td>I should buy these clothes because I live in P...</td>\n",
       "      <td>I should buy these clothes because I will only...</td>\n",
       "    </tr>\n",
       "    <tr>\n",
       "      <th>191</th>\n",
       "      <td>144593.jpg</td>\n",
       "      <td>I should eat at texas brazil because father's ...</td>\n",
       "      <td>I should eat at texas brazil because pork and ...</td>\n",
       "      <td>I should eat at texas de brazil because they k...</td>\n",
       "    </tr>\n",
       "    <tr>\n",
       "      <th>136</th>\n",
       "      <td>16608.jpg</td>\n",
       "      <td>I should shop at a this store because they hav...</td>\n",
       "      <td>I should shop at this store because they sell ...</td>\n",
       "      <td>I should shop at this store because they sell ...</td>\n",
       "    </tr>\n",
       "    <tr>\n",
       "      <th>70</th>\n",
       "      <td>171400.png</td>\n",
       "      <td>I should shop at Duram's Early Bird Special in...</td>\n",
       "      <td>I should shop at Duram's Early Bird Special be...</td>\n",
       "      <td>I should shop at Duram's Early Bird Special be...</td>\n",
       "    </tr>\n",
       "    <tr>\n",
       "      <th>95</th>\n",
       "      <td>142518.jpg</td>\n",
       "      <td>I should get some lipstick because it will mak...</td>\n",
       "      <td>I should get some lipstick because my new unif...</td>\n",
       "      <td>I should get some lipstick because it was crea...</td>\n",
       "    </tr>\n",
       "  </tbody>\n",
       "</table>\n",
       "</div>"
      ],
      "text/plain": [
       "     image_path                                                 ar  \\\n",
       "237   62126.jpg  I should buy these clothes because i will look...   \n",
       "191  144593.jpg  I should eat at texas brazil because father's ...   \n",
       "136   16608.jpg  I should shop at a this store because they hav...   \n",
       "70   171400.png  I should shop at Duram's Early Bird Special in...   \n",
       "95   142518.jpg  I should get some lipstick because it will mak...   \n",
       "\n",
       "                                          distractor_1  \\\n",
       "237  I should buy these clothes because I live in P...   \n",
       "191  I should eat at texas brazil because pork and ...   \n",
       "136  I should shop at this store because they sell ...   \n",
       "70   I should shop at Duram's Early Bird Special be...   \n",
       "95   I should get some lipstick because my new unif...   \n",
       "\n",
       "                                          distractor_2  \n",
       "237  I should buy these clothes because I will only...  \n",
       "191  I should eat at texas de brazil because they k...  \n",
       "136  I should shop at this store because they sell ...  \n",
       "70   I should shop at Duram's Early Bird Special be...  \n",
       "95   I should get some lipstick because it was crea...  "
      ]
     },
     "execution_count": 14,
     "metadata": {},
     "output_type": "execute_result"
    }
   ],
   "source": [
    "df.head()"
   ]
  },
  {
   "cell_type": "code",
   "execution_count": 15,
   "metadata": {},
   "outputs": [
    {
     "data": {
      "text/plain": [
       "array(['I should buy these clothes because i will look like a model',\n",
       "       'I should buy these clothes because I live in Paris.',\n",
       "       'I should buy these clothes because I will only see in black and white.'],\n",
       "      dtype=object)"
      ]
     },
     "execution_count": 15,
     "metadata": {},
     "output_type": "execute_result"
    }
   ],
   "source": [
    "df.loc[df.image_path=='62126.jpg', ['ar', 'distractor_1', 'distractor_2']].values[0]"
   ]
  },
  {
   "cell_type": "code",
   "execution_count": 19,
   "metadata": {},
   "outputs": [],
   "source": [
    "df.to_csv(annotations.csv', index=False)"
   ]
  },
  {
   "cell_type": "code",
   "execution_count": 21,
   "metadata": {},
   "outputs": [],
   "source": [
    "df = pd.read_csv('annotations.csv')\n"
   ]
  },
  {
   "cell_type": "code",
   "execution_count": null,
   "metadata": {},
   "outputs": [],
   "source": [
    "df1 = df[:10]\n",
    "# df1"
   ]
  },
  {
   "cell_type": "code",
   "execution_count": 49,
   "metadata": {},
   "outputs": [],
   "source": [
    "df1.to_csv('annotations.csv')"
   ]
  },
  {
   "cell_type": "code",
   "execution_count": 23,
   "metadata": {},
   "outputs": [],
   "source": [
    "df2 = df[10:].reset_index(drop=True)"
   ]
  },
  {
   "cell_type": "code",
   "execution_count": 24,
   "metadata": {},
   "outputs": [
    {
     "data": {
      "text/html": [
       "<div>\n",
       "<style scoped>\n",
       "    .dataframe tbody tr th:only-of-type {\n",
       "        vertical-align: middle;\n",
       "    }\n",
       "\n",
       "    .dataframe tbody tr th {\n",
       "        vertical-align: top;\n",
       "    }\n",
       "\n",
       "    .dataframe thead th {\n",
       "        text-align: right;\n",
       "    }\n",
       "</style>\n",
       "<table border=\"1\" class=\"dataframe\">\n",
       "  <thead>\n",
       "    <tr style=\"text-align: right;\">\n",
       "      <th></th>\n",
       "      <th>image_path</th>\n",
       "      <th>ar</th>\n",
       "      <th>distractor_1</th>\n",
       "      <th>distractor_2</th>\n",
       "      <th>answer</th>\n",
       "    </tr>\n",
       "  </thead>\n",
       "  <tbody>\n",
       "    <tr>\n",
       "      <th>0</th>\n",
       "      <td>160131.jpg</td>\n",
       "      <td>I should buy this car because it is family fri...</td>\n",
       "      <td>I should buy these water balloons because they...</td>\n",
       "      <td>I should buy this hose pipe because kids like ...</td>\n",
       "      <td>NaN</td>\n",
       "    </tr>\n",
       "    <tr>\n",
       "      <th>1</th>\n",
       "      <td>60698.jpg</td>\n",
       "      <td>I should buy GE refrigerators because they are...</td>\n",
       "      <td>I should buy GE refrigerators because there ar...</td>\n",
       "      <td>I should buy GE fruit because my kids love to ...</td>\n",
       "      <td>NaN</td>\n",
       "    </tr>\n",
       "    <tr>\n",
       "      <th>2</th>\n",
       "      <td>25607.jpg</td>\n",
       "      <td>I should buy Heinz beans because they taste go...</td>\n",
       "      <td>I should buy Heinz beans because five kinds of...</td>\n",
       "      <td>I should buy Heinz beans because I can save 50...</td>\n",
       "      <td>NaN</td>\n",
       "    </tr>\n",
       "    <tr>\n",
       "      <th>3</th>\n",
       "      <td>176715.png</td>\n",
       "      <td>I should buy this product to keep up with the ...</td>\n",
       "      <td>I should buy this smartphone because I like ex...</td>\n",
       "      <td>I should buy this smartphone because I will ge...</td>\n",
       "      <td>NaN</td>\n",
       "    </tr>\n",
       "    <tr>\n",
       "      <th>4</th>\n",
       "      <td>65714.jpg</td>\n",
       "      <td>I should order Hanes online because they have ...</td>\n",
       "      <td>I should order Hanes online because they sell ...</td>\n",
       "      <td>I should order a dog online because it has fre...</td>\n",
       "      <td>NaN</td>\n",
       "    </tr>\n",
       "  </tbody>\n",
       "</table>\n",
       "</div>"
      ],
      "text/plain": [
       "   image_path                                                 ar  \\\n",
       "0  160131.jpg  I should buy this car because it is family fri...   \n",
       "1   60698.jpg  I should buy GE refrigerators because they are...   \n",
       "2   25607.jpg  I should buy Heinz beans because they taste go...   \n",
       "3  176715.png  I should buy this product to keep up with the ...   \n",
       "4   65714.jpg  I should order Hanes online because they have ...   \n",
       "\n",
       "                                        distractor_1  \\\n",
       "0  I should buy these water balloons because they...   \n",
       "1  I should buy GE refrigerators because there ar...   \n",
       "2  I should buy Heinz beans because five kinds of...   \n",
       "3  I should buy this smartphone because I like ex...   \n",
       "4  I should order Hanes online because they sell ...   \n",
       "\n",
       "                                        distractor_2 answer  \n",
       "0  I should buy this hose pipe because kids like ...    NaN  \n",
       "1  I should buy GE fruit because my kids love to ...    NaN  \n",
       "2  I should buy Heinz beans because I can save 50...    NaN  \n",
       "3  I should buy this smartphone because I will ge...    NaN  \n",
       "4  I should order a dog online because it has fre...    NaN  "
      ]
     },
     "execution_count": 24,
     "metadata": {},
     "output_type": "execute_result"
    }
   ],
   "source": [
    "df2.head()"
   ]
  },
  {
   "cell_type": "code",
   "execution_count": null,
   "metadata": {},
   "outputs": [],
   "source": []
  },
  {
   "cell_type": "code",
   "execution_count": 30,
   "metadata": {},
   "outputs": [
    {
     "data": {
      "text/plain": [
       "30"
      ]
     },
     "execution_count": 30,
     "metadata": {},
     "output_type": "execute_result"
    }
   ],
   "source": [
    "thing = list(df2.image_path)*3\n",
    "len(thing)"
   ]
  },
  {
   "cell_type": "code",
   "execution_count": 31,
   "metadata": {},
   "outputs": [],
   "source": [
    "d = {'image_path':list(df2.image_path)*3,\n",
    "'statement' : list(df2.ar)+list(df2.distractor_1)+list(df2.distractor_2),\n",
    "'id': ['ar']*10 + ['d1']*10 + ['d2']*10}\n",
    "df3 = pd.DataFrame(d)"
   ]
  },
  {
   "cell_type": "code",
   "execution_count": 34,
   "metadata": {},
   "outputs": [],
   "source": [
    "random.seed(15)\n",
    "idxs = random.sample(list(np.arange(30)), 30)"
   ]
  },
  {
   "cell_type": "code",
   "execution_count": 46,
   "metadata": {},
   "outputs": [],
   "source": [
    "d = {'image_path': df3.image_path[idxs].values,\n",
    "'statement' : df3.statement[idxs].values,\n",
    "'id': df3.id[idxs].values}\n",
    "df4 = pd.DataFrame(d)"
   ]
  },
  {
   "cell_type": "code",
   "execution_count": 48,
   "metadata": {},
   "outputs": [],
   "source": [
    "df4.to_csv('ranking_annotations.csv', index=False)"
   ]
  },
  {
   "cell_type": "code",
   "execution_count": 45,
   "metadata": {},
   "outputs": [
    {
     "data": {
      "text/plain": [
       "array(['160131.jpg', '60698.jpg', '25607.jpg', '176715.png', '65714.jpg',\n",
       "       '112447.jpg', '17358.jpg', '23781.jpg', '53258.jpg', '33163.jpg',\n",
       "       '160131.jpg', '60698.jpg', '25607.jpg', '176715.png', '65714.jpg',\n",
       "       '112447.jpg', '17358.jpg', '23781.jpg', '53258.jpg', '33163.jpg',\n",
       "       '160131.jpg', '60698.jpg', '25607.jpg', '176715.png', '65714.jpg',\n",
       "       '112447.jpg', '17358.jpg', '23781.jpg', '53258.jpg', '33163.jpg'],\n",
       "      dtype=object)"
      ]
     },
     "execution_count": 45,
     "metadata": {},
     "output_type": "execute_result"
    }
   ],
   "source": [
    "df3.image_path.values\n"
   ]
  },
  {
   "cell_type": "code",
   "execution_count": 4,
   "metadata": {},
   "outputs": [],
   "source": [
    "df = pd.read_csv('ranking_annotations.csv')\n",
    "df['answer'] = [None] * 30"
   ]
  },
  {
   "cell_type": "code",
   "execution_count": 5,
   "metadata": {},
   "outputs": [],
   "source": [
    "df.to_csv('ranking_annotations.csv', index=False)"
   ]
  }
 ],
 "metadata": {
  "kernelspec": {
   "display_name": "dl",
   "language": "python",
   "name": "python3"
  },
  "language_info": {
   "codemirror_mode": {
    "name": "ipython",
    "version": 3
   },
   "file_extension": ".py",
   "mimetype": "text/x-python",
   "name": "python",
   "nbconvert_exporter": "python",
   "pygments_lexer": "ipython3",
   "version": "3.10.11"
  }
 },
 "nbformat": 4,
 "nbformat_minor": 2
}
